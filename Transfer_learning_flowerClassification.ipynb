{
  "cells": [
    {
      "cell_type": "markdown",
      "metadata": {
        "id": "view-in-github",
        "colab_type": "text"
      },
      "source": [
        "<a href=\"https://colab.research.google.com/github/HDS07/Deep_Learning/blob/main/Transfer_learning_flowerClassification.ipynb\" target=\"_parent\"><img src=\"https://colab.research.google.com/assets/colab-badge.svg\" alt=\"Open In Colab\"/></a>"
      ]
    },
    {
      "cell_type": "code",
      "execution_count": null,
      "metadata": {
        "id": "5sBzayzw0mx-"
      },
      "outputs": [],
      "source": [
        "from tensorflow.keras.preprocessing.image import ImageDataGenerator\n",
        "from tensorflow.keras.applications import ResNet50\n",
        "from tensorflow.keras.layers import Dense, GlobalAveragePooling2D\n",
        "from tensorflow.keras.models import Model\n",
        "from tensorflow.keras.optimizers import Adam\n",
        "import matplotlib.pyplot as plt"
      ]
    },
    {
      "cell_type": "code",
      "execution_count": null,
      "metadata": {
        "colab": {
          "base_uri": "https://localhost:8080/"
        },
        "id": "7SmNs2rCS6ng",
        "outputId": "c6d27ee0-cd11-4ab8-9402-6a0ae08c12fd"
      },
      "outputs": [
        {
          "name": "stdout",
          "output_type": "stream",
          "text": [
            "Drive already mounted at /content/drive; to attempt to forcibly remount, call drive.mount(\"/content/drive\", force_remount=True).\n"
          ]
        }
      ],
      "source": [
        "from google.colab import drive\n",
        "drive.mount('/content/drive')"
      ]
    },
    {
      "cell_type": "code",
      "execution_count": null,
      "metadata": {
        "id": "pSjqDaNEAIIc"
      },
      "outputs": [],
      "source": [
        "train_path = \"/content/drive/MyDrive/flower_set/train\"\n",
        "test_path = \"/content/drive/MyDrive/flower_set/test\"\n",
        "val_path = \"/content/drive/MyDrive/flower_set/validate\""
      ]
    },
    {
      "cell_type": "code",
      "execution_count": null,
      "metadata": {
        "id": "uxxzQnO8E7fZ"
      },
      "outputs": [],
      "source": [
        "datagen_train = ImageDataGenerator(rescale=1./255)\n",
        "datagen_test = ImageDataGenerator(rescale=1./255)\n",
        "datagen_val = ImageDataGenerator(rescale=1./255)"
      ]
    },
    {
      "cell_type": "code",
      "execution_count": null,
      "metadata": {
        "colab": {
          "base_uri": "https://localhost:8080/"
        },
        "id": "OZEbe5nMF2hO",
        "outputId": "966f0b8d-0066-4da1-9067-79b848579d4f"
      },
      "outputs": [
        {
          "name": "stdout",
          "output_type": "stream",
          "text": [
            "Found 3017 images belonging to 5 classes.\n"
          ]
        }
      ],
      "source": [
        "train_data = datagen_train.flow_from_directory(\n",
        "    directory=train_path,\n",
        "    target_size=(224, 224),\n",
        "    batch_size=32,  # Adjust batch size if needed\n",
        "    class_mode='categorical',\n",
        "    subset='training'\n",
        ")"
      ]
    },
    {
      "cell_type": "code",
      "execution_count": null,
      "metadata": {
        "colab": {
          "base_uri": "https://localhost:8080/"
        },
        "id": "UU5xcNC2HGKZ",
        "outputId": "79d396ca-2571-4740-da89-262d1d9798e3"
      },
      "outputs": [
        {
          "name": "stdout",
          "output_type": "stream",
          "text": [
            "Found 435 images belonging to 5 classes.\n"
          ]
        }
      ],
      "source": [
        "val_data = datagen_val.flow_from_directory(\n",
        "    directory=val_path,\n",
        "    target_size=(224, 224),\n",
        "    batch_size=32,\n",
        "    class_mode='categorical'\n",
        ")\n"
      ]
    },
    {
      "cell_type": "code",
      "execution_count": null,
      "metadata": {
        "colab": {
          "base_uri": "https://localhost:8080/"
        },
        "id": "rTSOIiWgHSGV",
        "outputId": "8cde35c1-a528-4fb1-d167-8274b0bd0bd3"
      },
      "outputs": [
        {
          "name": "stdout",
          "output_type": "stream",
          "text": [
            "Found 865 images belonging to 5 classes.\n"
          ]
        }
      ],
      "source": [
        "test_data = datagen_test.flow_from_directory(\n",
        "    directory=test_path,\n",
        "    target_size=(224, 224),\n",
        "    batch_size=32,\n",
        "    class_mode='categorical'\n",
        ")"
      ]
    },
    {
      "cell_type": "code",
      "execution_count": null,
      "metadata": {
        "id": "31W_HAbzHcCd"
      },
      "outputs": [],
      "source": [
        "base_model = ResNet50(weights='imagenet', include_top=False, input_shape=(224, 224, 3))"
      ]
    },
    {
      "cell_type": "code",
      "execution_count": null,
      "metadata": {
        "id": "5z_7Y3_cHrXw"
      },
      "outputs": [],
      "source": [
        "for layer in base_model.layers:\n",
        "    layer.trainable = False"
      ]
    },
    {
      "cell_type": "code",
      "execution_count": null,
      "metadata": {
        "id": "RhYj6DsgH2RG"
      },
      "outputs": [],
      "source": [
        "x = base_model.output\n",
        "x = GlobalAveragePooling2D()(x)\n",
        "x = Dense(1024, activation='relu')(x)\n",
        "predictions = Dense(train_data.num_classes, activation='softmax')(x)"
      ]
    },
    {
      "cell_type": "code",
      "execution_count": null,
      "metadata": {
        "id": "j-5zwc_mInlk"
      },
      "outputs": [],
      "source": [
        "model = Model(inputs=base_model.input, outputs=predictions)"
      ]
    },
    {
      "cell_type": "code",
      "execution_count": null,
      "metadata": {
        "id": "dSyFd4qgIo30"
      },
      "outputs": [],
      "source": [
        "model.compile(optimizer=Adam(learning_rate=0.001), loss='categorical_crossentropy', metrics=['accuracy'])"
      ]
    },
    {
      "cell_type": "code",
      "execution_count": null,
      "metadata": {
        "colab": {
          "background_save": true,
          "base_uri": "https://localhost:8080/"
        },
        "id": "1XFkrgZdl2cz",
        "outputId": "651ddce8-64f7-4da2-e2c7-edd9dc0296ed"
      },
      "outputs": [
        {
          "name": "stdout",
          "output_type": "stream",
          "text": [
            "Epoch 1/5\n",
            "\u001b[1m95/95\u001b[0m \u001b[32m━━━━━━━━━━━━━━━━━━━━\u001b[0m\u001b[37m\u001b[0m \u001b[1m676s\u001b[0m 7s/step - accuracy: 0.2566 - loss: 1.8387 - val_accuracy: 0.4184 - val_loss: 1.5021\n",
            "Epoch 2/5\n",
            "\u001b[1m95/95\u001b[0m \u001b[32m━━━━━━━━━━━━━━━━━━━━\u001b[0m\u001b[37m\u001b[0m \u001b[1m655s\u001b[0m 7s/step - accuracy: 0.3752 - loss: 1.4945 - val_accuracy: 0.4644 - val_loss: 1.3849\n",
            "Epoch 3/5\n",
            "\u001b[1m95/95\u001b[0m \u001b[32m━━━━━━━━━━━━━━━━━━━━\u001b[0m\u001b[37m\u001b[0m \u001b[1m677s\u001b[0m 7s/step - accuracy: 0.3915 - loss: 1.4268 - val_accuracy: 0.4667 - val_loss: 1.3171\n",
            "Epoch 4/5\n",
            "\u001b[1m95/95\u001b[0m \u001b[32m━━━━━━━━━━━━━━━━━━━━\u001b[0m\u001b[37m\u001b[0m \u001b[1m644s\u001b[0m 7s/step - accuracy: 0.4233 - loss: 1.3961 - val_accuracy: 0.4966 - val_loss: 1.2924\n",
            "Epoch 5/5\n",
            "\u001b[1m95/95\u001b[0m \u001b[32m━━━━━━━━━━━━━━━━━━━━\u001b[0m\u001b[37m\u001b[0m \u001b[1m686s\u001b[0m 7s/step - accuracy: 0.4296 - loss: 1.3782 - val_accuracy: 0.4828 - val_loss: 1.3570\n"
          ]
        }
      ],
      "source": [
        "history_top_layers = model.fit(\n",
        "    train_data,\n",
        "    validation_data=val_data,\n",
        "    epochs=5\n",
        ")"
      ]
    },
    {
      "cell_type": "code",
      "execution_count": null,
      "metadata": {
        "id": "nYt0D75lJTA4"
      },
      "outputs": [],
      "source": [
        "for layer in base_model.layers:\n",
        "    layer.trainable = True"
      ]
    },
    {
      "cell_type": "code",
      "execution_count": null,
      "metadata": {
        "id": "RnDF8Hm-JUBG"
      },
      "outputs": [],
      "source": [
        "model.compile(optimizer=Adam(learning_rate=0.001), loss='categorical_crossentropy', metrics=['accuracy'])"
      ]
    },
    {
      "cell_type": "code",
      "execution_count": null,
      "metadata": {
        "colab": {
          "base_uri": "https://localhost:8080/"
        },
        "id": "QDu2CoZn_pMS",
        "outputId": "895c24ca-c410-4ef8-deeb-ed12afd3afdd"
      },
      "outputs": [
        {
          "name": "stdout",
          "output_type": "stream",
          "text": [
            "Epoch 1/10\n",
            "\u001b[1m95/95\u001b[0m \u001b[32m━━━━━━━━━━━━━━━━━━━━\u001b[0m\u001b[37m\u001b[0m \u001b[1m131s\u001b[0m 708ms/step - accuracy: 0.5565 - loss: 2.6522 - val_accuracy: 0.2437 - val_loss: 1.9462\n",
            "Epoch 2/10\n",
            "\u001b[1m95/95\u001b[0m \u001b[32m━━━━━━━━━━━━━━━━━━━━\u001b[0m\u001b[37m\u001b[0m \u001b[1m78s\u001b[0m 353ms/step - accuracy: 0.7685 - loss: 0.6678 - val_accuracy: 0.2437 - val_loss: 2.8442\n",
            "Epoch 3/10\n",
            "\u001b[1m95/95\u001b[0m \u001b[32m━━━━━━━━━━━━━━━━━━━━\u001b[0m\u001b[37m\u001b[0m \u001b[1m31s\u001b[0m 316ms/step - accuracy: 0.8078 - loss: 0.5706 - val_accuracy: 0.2437 - val_loss: 4.9128\n",
            "Epoch 4/10\n",
            "\u001b[1m95/95\u001b[0m \u001b[32m━━━━━━━━━━━━━━━━━━━━\u001b[0m\u001b[37m\u001b[0m \u001b[1m31s\u001b[0m 315ms/step - accuracy: 0.8357 - loss: 0.4393 - val_accuracy: 0.2437 - val_loss: 1.8126\n",
            "Epoch 5/10\n",
            "\u001b[1m95/95\u001b[0m \u001b[32m━━━━━━━━━━━━━━━━━━━━\u001b[0m\u001b[37m\u001b[0m \u001b[1m31s\u001b[0m 316ms/step - accuracy: 0.8979 - loss: 0.3062 - val_accuracy: 0.2437 - val_loss: 2.7147\n",
            "Epoch 6/10\n",
            "\u001b[1m95/95\u001b[0m \u001b[32m━━━━━━━━━━━━━━━━━━━━\u001b[0m\u001b[37m\u001b[0m \u001b[1m31s\u001b[0m 314ms/step - accuracy: 0.9082 - loss: 0.2738 - val_accuracy: 0.2506 - val_loss: 3.6254\n",
            "Epoch 7/10\n",
            "\u001b[1m95/95\u001b[0m \u001b[32m━━━━━━━━━━━━━━━━━━━━\u001b[0m\u001b[37m\u001b[0m \u001b[1m42s\u001b[0m 323ms/step - accuracy: 0.9346 - loss: 0.1967 - val_accuracy: 0.3931 - val_loss: 1.8196\n",
            "Epoch 8/10\n",
            "\u001b[1m95/95\u001b[0m \u001b[32m━━━━━━━━━━━━━━━━━━━━\u001b[0m\u001b[37m\u001b[0m \u001b[1m32s\u001b[0m 321ms/step - accuracy: 0.9477 - loss: 0.1694 - val_accuracy: 0.4345 - val_loss: 2.2383\n",
            "Epoch 9/10\n",
            "\u001b[1m95/95\u001b[0m \u001b[32m━━━━━━━━━━━━━━━━━━━━\u001b[0m\u001b[37m\u001b[0m \u001b[1m40s\u001b[0m 314ms/step - accuracy: 0.9443 - loss: 0.1529 - val_accuracy: 0.4598 - val_loss: 1.7576\n",
            "Epoch 10/10\n",
            "\u001b[1m95/95\u001b[0m \u001b[32m━━━━━━━━━━━━━━━━━━━━\u001b[0m\u001b[37m\u001b[0m \u001b[1m35s\u001b[0m 349ms/step - accuracy: 0.9269 - loss: 0.2185 - val_accuracy: 0.6920 - val_loss: 0.9691\n"
          ]
        }
      ],
      "source": [
        "history_finetune = model.fit(\n",
        "    train_data,\n",
        "    validation_data=val_data,\n",
        "    epochs=10\n",
        ")"
      ]
    },
    {
      "cell_type": "code",
      "execution_count": null,
      "metadata": {
        "colab": {
          "base_uri": "https://localhost:8080/",
          "height": 472
        },
        "id": "-Ji0bYhOd-P0",
        "outputId": "a9c2b79e-5733-4ab6-a573-e597e9c8bfb2"
      },
      "outputs": [
        {
          "data": {
            "image/png": "[encoded data removed]",
            "text/plain": [
              "<Figure size 640x480 with 1 Axes>"
            ]
          },
          "metadata": {},
          "output_type": "display_data"
        }
      ],
      "source": [
        "plt.plot(history_top_layers.history['accuracy'] + history_finetune.history['accuracy'], label='Train Accuracy')\n",
        "plt.plot(history_top_layers.history['val_accuracy'] + history_finetune.history['val_accuracy'], label='Validation Accuracy')\n",
        "plt.xlabel('Epochs')\n",
        "plt.ylabel('Accuracy')\n",
        "plt.legend()\n",
        "plt.title('Training and Validation Accuracy')\n",
        "plt.show()"
      ]
    },
    {
      "cell_type": "code",
      "execution_count": null,
      "metadata": {
        "colab": {
          "base_uri": "https://localhost:8080/"
        },
        "id": "0nIEEZuCd_Sp",
        "outputId": "82611102-4c01-4798-8acd-4beb60ad1381"
      },
      "outputs": [
        {
          "name": "stdout",
          "output_type": "stream",
          "text": [
            "\u001b[1m28/28\u001b[0m \u001b[32m━━━━━━━━━━━━━━━━━━━━\u001b[0m\u001b[37m\u001b[0m \u001b[1m7s\u001b[0m 247ms/step - accuracy: 0.6412 - loss: 1.2547\n",
            "Test accuracy: 0.66\n"
          ]
        }
      ],
      "source": [
        "test_loss, test_accuracy = model.evaluate(test_data)\n",
        "print(f\"Test accuracy: {test_accuracy:.2f}\")"
      ]
    },
    {
      "cell_type": "code",
      "execution_count": null,
      "metadata": {
        "id": "5AsxAY7EDI71"
      },
      "outputs": [],
      "source": [
        "import numpy as np\n",
        "from tensorflow.keras.preprocessing import image\n",
        "\n",
        "# Function to predict a single image\n",
        "def predict_image(img_path, model, class_indices):\n",
        "    img = image.load_img(img_path, target_size=(224, 224))  # Load and resize the image\n",
        "    img_array = image.img_to_array(img)  # Convert to array\n",
        "    img_array = np.expand_dims(img_array, axis=0)  # Add batch dimension\n",
        "    img_array = img_array / 255.0  # Rescale the image\n",
        "    predictions = model.predict(img_array)\n",
        "    predicted_class = np.argmax(predictions, axis=1)\n",
        "\n",
        "    # Convert the class index back to the class name\n",
        "    classes = {v: k for k, v in class_indices.items()}  # Reverse the class_indices mapping\n",
        "    return classes[predicted_class[0]], predictions[0]"
      ]
    },
    {
      "cell_type": "code",
      "execution_count": null,
      "metadata": {
        "id": "1A1beH5tDNYk"
      },
      "outputs": [],
      "source": [
        "test_image_paths = [\n",
        "    \"/content/drive/MyDrive/flower_set/test/tulip/12517756805_56b74be742.jpg\"\n",
        "]"
      ]
    },
    {
      "cell_type": "code",
      "execution_count": null,
      "metadata": {
        "id": "JmzPK8yRxisH"
      },
      "outputs": [],
      "source": [
        "for img_path in test_image_paths:\n",
        "    predicted_class, prediction_scores = predict_image(img_path, model, train_data.class_indices)\n",
        "    print(f\"Image: {img_path}\")\n",
        "    print(f\"Predicted Class: {predicted_class}\")\n",
        "    print(f\"Prediction Scores: {prediction_scores}\\n\")"
      ]
    }
  ],
  "metadata": {
    "accelerator": "GPU",
    "colab": {
      "gpuType": "T4",
      "provenance": [],
      "mount_file_id": "1Mu0XKNu3BDKci5fHGkEtpY0AHv34lPZP",
      "authorship_tag": "ABX9TyNGeDgGxkWAY1oc3xRcj5ID",
      "include_colab_link": true
    },
    "kernelspec": {
      "display_name": "Python 3",
      "name": "python3"
    },
    "language_info": {
      "name": "python"
    }
  },
  "nbformat": 4,
  "nbformat_minor": 0
}